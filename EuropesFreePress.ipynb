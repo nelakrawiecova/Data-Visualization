{
 "cells": [
  {
   "cell_type": "markdown",
   "metadata": {},
   "source": [
    "# Backtrack of Europe's free press"
   ]
  },
  {
   "cell_type": "markdown",
   "metadata": {},
   "source": [
    "##### Story by Nela Krawiecova"
   ]
  },
  {
   "cell_type": "markdown",
   "metadata": {},
   "source": [
    "The murder of Jan Kuciak, a 27-year-old journalist investigating Slovakia's government corruption and its links to the Calabrian mafia, the ‘Ndrangheta, has led to resignations and the largest protests in the country since the fall of communism in 1989. \n",
    "\n",
    "This second killing of a European investigative reporter in the past 4 months is raising one question: Are attacks on freedom of the press putting Europe's democracies in danger?\n"
   ]
  },
  {
   "cell_type": "markdown",
   "metadata": {},
   "source": [
    ">Kuciak and his fiancée, Martina Kusnirova, were found shot dead on Feb. 25, 2018, in their house east of the Slovak capital, Bratislava. Caruana Galizia, who reported on government corruption in Malta and the Panama Papers was killed a few months prior, on Oct. 16, 2017. The car that she was driving exploded near to her house in Bidnija, Malta.\n",
    "\n",
    "Kuciak and Galizia are both believed to be victims of a criminal group. Their deaths have dispelled the perception that Europe -- outside of Russia and Turkey -- is a safe place for reporters. According to the Committee to Protect Journalists (CPJ), Kuciak is the first journalist to be killed in Slovakia and one of the eight murdered in 2018 so far. \n"
   ]
  },
  {
   "cell_type": "markdown",
   "metadata": {},
   "source": [
    "![Alt text](graf1.jpg)"
   ]
  },
  {
   "cell_type": "markdown",
   "metadata": {},
   "source": [
    " _CPJ defines journalists as people who cover news or comment on public affairs through any media -- including in print, in photographs, on radio, on television, and online. This graphic is showing cases involving staff journalists, freelancers, stringers, bloggers, and citizen journalists. _"
   ]
  },
  {
   "cell_type": "code",
   "execution_count": null,
   "metadata": {},
   "outputs": [],
   "source": [
    "library(dplyr)\n",
    "library(ggplot2)\n",
    "library(zoo)\n",
    "library(lubridate)\n",
    "library(tidyr)\n",
    "\n",
    "j <- read.csv('/Users/Nela/Downloads/cpj_database.csv')\n",
    "\n",
    "j5 <- j %>% mutate(shortdate = format(as.POSIXct(date, format =\"%m/%d/%y\"),\"%Y-%m-%d\"),\n",
    "       yearmonth = as.yearmon(shortdate),\n",
    "        year = floor_date(ymd(shortdate), \"year\")) %>% group_by(year) %>%\n",
    "filter(shortdate != \"NA\", year > \"1999-01-01\", year != \"2018-01-01\") %>%\n",
    "summarize(\n",
    "    Count = n()\n",
    ")\n",
    "j5\n",
    "\n",
    "options(repr.plot.width=8, repr.plot.height=4)\n",
    "ggplot(j5) + geom_line(aes(x=year, y=Count, color=\"red\"), size=1.5)+ scale_x_date(date_labels=\"%Y\", date_breaks=\"12 month\") +\n",
    "labs(x=\"Year\", y=\"Number of Journalists Killed\", title=\"Number of Journalists Killed 2000 - 2017\", \n",
    "            subtitle=\"Year 2017 is representing the second consecutive decline from record highs early this decade.\",\n",
    "       caption=\"Source CPJ Data Graphic by Nela Krawiecova\") + \n",
    "theme_minimal() + \n",
    "    theme(text = element_text(color = \"gray20\"),\n",
    "          axis.title.x = element_text(vjust = -1),\n",
    "          plot.title = element_text(size = 16, face = \"bold\"),\n",
    "          axis.title = element_text(size = 7),\n",
    "          axis.title.y = element_text(vjust = 2), \n",
    "          axis.ticks.y = element_blank(), \n",
    "          axis.line.x = element_line(color = \"gray20\", size = 0.5),\n",
    "          axis.line.y = element_line(color = \"grey20\", size = 0.5),\n",
    "          panel.grid.major.x = element_line(color = \"gray60\", size = 0.2),\n",
    "          panel.grid.major.y = element_line(color = \"gray60\", size = 0.1))"
   ]
  },
  {
   "cell_type": "markdown",
   "metadata": {},
   "source": [
    "## Corruption, Drugs and War\n",
    "\n",
    "The top countries on earth where journalists are killed can be grouped into three categories: Corruption, drugs and war.\n",
    "\n",
    "The largest portion of the journalists who died in the last two decades are war reporters in the Middle East; Iraq, and Syria in particular. Latin American countries, where national security is often used as an excuse to detain journalists and stifle criticism, appear on the list of top countries. \n"
   ]
  },
  {
   "cell_type": "markdown",
   "metadata": {},
   "source": [
    "![Alt text](graf2.jpg)"
   ]
  },
  {
   "cell_type": "code",
   "execution_count": null,
   "metadata": {},
   "outputs": [],
   "source": [
    "facet_wrap <- j %>% mutate(shortdate = format(as.POSIXct(date, format =\"%m/%d/%y\"),\"%Y-%m-%d\"),\n",
    "       yearmonth = as.yearmon(shortdate),\n",
    "        year = floor_date(ymd(shortdate), \"year\")) %>% group_by(country_killed) %>%\n",
    "filter(country_killed != \"\") %>%\n",
    "summarize(\n",
    "    Count = n()\n",
    ") %>% arrange(desc(Count))\n",
    "facet_wrap  %>%\n",
    "top_n(16)\n",
    "\n",
    "facet_wrap2 <- j %>%\n",
    "filter(country_killed == \"Iraq\" | country_killed == \"Philippines\" | \n",
    "       country_killed == \"Syria\"| country_killed == \"Mexico\" | country_killed == \"Pakistan\" | \n",
    "       country_killed == \"Colombia\") %>%\n",
    "mutate(shortdate = format(as.POSIXct(date, format =\"%m/%d/%y\"),\"%Y-%m-%d\"),\n",
    "       yearmonth = as.yearmon(shortdate),\n",
    "        year = floor_date(ymd(shortdate), \"year\"))%>% \n",
    "group_by(country_killed,year) %>%\n",
    "summarize(count = n())\n",
    "\n",
    "ggplot(facet_wrap2, aes(x=year, y=count, group=1, color=\"red\")) + geom_line() + \n",
    "labs(x=\"Year\", y=\"Journalists killed\", title=\"Six most frequent location where Journalists get killed\", \n",
    "     caption=\"Source GPJ Data Graphics by Nela Krawiecova\") + \n",
    "facet_wrap(~country_killed) +\n",
    "theme(plot.title=element_text(size=16, face=\"bold\"), \n",
    "      panel.background = element_rect(fill = \"white\"),\n",
    "      panel.grid.major = element_line (color = \"grey70\", size = 0.2),\n",
    "      panel.grid.minor = element_line (color = \"grey80\", size = 0.1),\n",
    "      axis.line = element_line (color = \"grey40\"),\n",
    "      axis.title = element_text(size = 8))"
   ]
  },
  {
   "cell_type": "markdown",
   "metadata": {},
   "source": [
    "## Lost in the Black sea\n",
    "Russia and Turkey do not only share the Black sea and powerful, authoritarian presidents. They are also the only two countries located in Europe to be high on the list of the deadliest spots for reporters in the world. \n",
    "\n",
    "Russia was under fire just recently, in 2017 after Nikolai Andrushchenko and Dmitry Popkov were murdered, both reporting on corruption and politics. "
   ]
  },
  {
   "cell_type": "markdown",
   "metadata": {},
   "source": [
    "Andrushchenko, 73, was a veteran journalist known for his his criticism of Russian President Vladimir Putin and his investigative reports alleging corruption and human rights abuses, including by local police. \n",
    "\n",
    "Popkov, 42, chief editor of independent local newspaper Ton-M in Siberia, was known for his investigative reports on abuse of power and corruption, as well as his criticism of functionaries from the leading Kremlin-backed United Russia party. "
   ]
  },
  {
   "cell_type": "markdown",
   "metadata": {},
   "source": [
    "![Alt text](graf3.jpg) "
   ]
  },
  {
   "cell_type": "code",
   "execution_count": null,
   "metadata": {},
   "outputs": [],
   "source": [
    "facet_wrap3 <- j %>%\n",
    "filter(country_killed == \"Russia\" | country_killed == \"India\" | \n",
    "       country_killed == \"Somalia\" | country_killed == \"Algeria\" | country_killed == \"Brazil\"| \n",
    "       country_killed == \"Afganistan\" | country_killed == \"Bangladesh\" | country_killed == \"Turkey\" | \n",
    "       country_killed == \"Tajikistan\"| country_killed == \"Honduras\")%>%\n",
    "mutate(shortdate = format(as.POSIXct(date, format =\"%m/%d/%y\"),\"%Y-%m-%d\"),\n",
    "       yearmonth = as.yearmon(shortdate),\n",
    "        year = floor_date(ymd(shortdate), \"year\"))%>% \n",
    "group_by(country_killed,year) %>%\n",
    "summarize(count = n())\n",
    "\n",
    "options(repr.plot.width=8, repr.plot.height=6)\n",
    "ggplot(facet_wrap3, aes(x=year, y=count, group=1, color=\"red\")) + geom_line() + \n",
    "labs(x=\"Year\", y=\"Journalists killed\", title=\"More countries with overall number of killings higher than 25\", \n",
    "     caption=\"Source GPJ Data Graphics by Nela Krawiecova\") + \n",
    "facet_wrap(~country_killed) +\n",
    "theme(plot.title=element_text(size=16, face=\"bold\"), \n",
    "      panel.background = element_rect(fill = \"white\"),\n",
    "      panel.grid.major = element_line (color = \"grey70\", size = 0.2),\n",
    "      panel.grid.minor = element_line (color = \"grey80\", size = 0.1),\n",
    "      axis.line = element_line (color = \"grey40\"),\n",
    "      axis.title = element_text(size = 8))"
   ]
  },
  {
   "cell_type": "markdown",
   "metadata": {},
   "source": [
    "## The Zones of Danger\n",
    "\n",
    "In conflict zones or areas under the control of militant groups where information is scarce, the situation is constantly changing, and some cases of murder go unreported. Despite that, CPJ offers a look into what are the most common types of situations in which journalists sacrifice the most, their lives.\n"
   ]
  },
  {
   "cell_type": "markdown",
   "metadata": {},
   "source": [
    "![Alt text](grafnew.jpg) "
   ]
  },
  {
   "cell_type": "markdown",
   "metadata": {},
   "source": [
    " _CPJ further categorizes each death of a journalist; Crossfire/combat: a killing on a battlefield or in a military context; Dangerous assignment: deaths while covering a demonstration, riot, clashes between rival groups; Murder: the targeted killing of a journalist, whether premeditated or spontaneous, in direct reprisal for the journalist's work._"
   ]
  },
  {
   "cell_type": "code",
   "execution_count": null,
   "metadata": {},
   "outputs": [],
   "source": [
    "j1<-j %>%\n",
    "mutate(shortdate = format(as.POSIXct(date, format =\"%m/%d/%y\"),\"%Y-%m-%d\"),\n",
    "       yearmonth = as.yearmon(shortdate),\n",
    "        year = floor_date(ymd(shortdate), \"year\"),\n",
    "       Type = ifelse(type_of_death == \"Dangerous Assignment\", \"Dangerous Assignment\",\n",
    "                         ifelse(type_of_death == \"Murder\", \"Murder\",\n",
    "                                ifelse(type_of_death == \"Crossfire/Combat-Related\", \"Crossfire/Combat-Related\",\n",
    "                                       ifelse(type_of_death == \"Crossfire/Combat-Related\", \"Crossfire/Combat-Related\", \"Unknown\"))))) %>%\n",
    "filter(shortdate != \"NA\") %>%\n",
    "group_by(year, Type) %>%\n",
    "summarize(count = n()) \n",
    "j1\n",
    "\n",
    "j2<-j %>%\n",
    "mutate(shortdate = format(as.POSIXct(date, format =\"%m/%d/%y\"),\"%Y-%m-%d\"),\n",
    "       yearmonth = as.yearmon(shortdate),\n",
    "        year = floor_date(ymd(shortdate), \"year\")) %>%\n",
    "filter(shortdate != \"NA\") %>%\n",
    "group_by(year) %>%\n",
    "summarize(count=n())\n",
    "\n",
    "percents <- j1 %>%\n",
    "inner_join(j2, by=\"year\") %>%\n",
    "mutate(Percentage = (count.x/count.y)*100)\n",
    "\n",
    "options(repr.plot.width=10, repr.plot.height=6)\n",
    "ggplot(percents, aes(x=year, y=Percentage, fill=Type)) + geom_area() + \n",
    "labs(x=\"Year\", y=\"Percentage of type of death\", title=\"Type of death of Journalists Killed 2000 - 2017\", \n",
    "subtitle=\"CPJ further categorizes each death of a journalist in which the motive is confirmed as related to their work.\", \n",
    "caption=\"Source CPJ Data Graphic by Nela Krawiecova\") +\n",
    " scale_fill_brewer(palette=\"RdGy\") +\n",
    "theme(plot.title=element_text(size=16, face=\"bold\"), \n",
    "      panel.background = element_rect(fill = \"white\"),\n",
    "      panel.grid.major = element_line (color = \"grey70\", size = 0.2),\n",
    "      panel.grid.minor = element_line (color = \"grey80\", size = 0.1),\n",
    "      axis.line = element_line (color = \"grey40\"),\n",
    "      axis.title = element_text(size = 8)) "
   ]
  },
  {
   "cell_type": "markdown",
   "metadata": {},
   "source": [
    "![Alt text](graf5.jpg) "
   ]
  },
  {
   "cell_type": "code",
   "execution_count": null,
   "metadata": {},
   "outputs": [],
   "source": [
    "scatter_plot1 <- j %>%\n",
    "mutate (country = country_killed) %>%\n",
    "group_by(country) %>%\n",
    "filter(country != \"\") %>%\n",
    "summarize (count = n()) %>%\n",
    "filter (count >= 40) %>%\n",
    "arrange(desc(count)) \n",
    "scatter_plot1\n",
    "\n",
    "index <- read.csv ('/Users/Nela/Downloads/index_format_upload_2017-v2_1_0.csv')\n",
    "\n",
    "index %>%\n",
    "arrange(desc(Overall.Score.2016))\n",
    "\n",
    "index1 <- index %>%\n",
    "mutate (country = EN_country) %>%\n",
    "group_by(country, Overall.Score.2016, Zone) %>%\n",
    "summarize (count = n())\n",
    "head(index1)\n",
    "\n",
    "scatter_plot2 <- scatter_plot1 %>%\n",
    "inner_join(index1, by=\"country\")\n",
    "head(scatter_plot2)\n",
    "\n",
    "options(repr.plot.width=8, repr.plot.height=6)\n",
    "ggplot(scatter_plot2, aes(x=Overall.Score.2016, y=count.x)) + geom_point((aes(colour = \"RdGy\"))) + \n",
    "labs(x=\"Overal score from 2017 World Press Freedom Index\", y=\"Total number of Journalists killed\", title=\"Countries with the most Journalists killed between 1992 - 2017\", \n",
    "subtitle=\"Reporters without borders' 2017 World Press Freedom Index indicates the degree of freedom available to journalists in\n",
    "180 countries. It is determined by pooling the responses of experts to a questionnaire devised by RSF.\", \n",
    "caption=\"Source 2017 World Press Freedom Index Graphic by Nela Krawiecova\") +\n",
    "geom_text(data=subset(scatter_plot2, count.x>=40), aes(label=country), size=4, nudge_y=8, check_overlap = TRUE) +\n",
    "theme(plot.title=element_text(size=16, face=\"bold\"), \n",
    "      panel.background = element_rect(fill = \"white\"),\n",
    "      panel.grid.major = element_line (color = \"grey70\", size = 0.2),\n",
    "      panel.grid.minor = element_line (color = \"grey80\", size = 0.1),\n",
    "      axis.line = element_line (color = \"grey40\"),\n",
    "      axis.title = element_text(size = 8))"
   ]
  },
  {
   "cell_type": "markdown",
   "metadata": {},
   "source": [
    "## Who is responsible?\n",
    "\n",
    "However, with government officials insulting journalists and discrediting the relevance of the press more regularly, investigations might become potentially more dangerous than crossfire. This is especially true in Europe, where an appalling climate for journalists has emerged and even encouraged by many European politicians, including the government leaders in the Czech Republic, Poland, Hungary, and Slovakia. \n",
    "\n",
    "It is often the leaders of the Visegrad four who are now openly pro-Russian years after their liberations from the Soviet Union. "
   ]
  },
  {
   "cell_type": "markdown",
   "metadata": {},
   "source": [
    "Czech President Milos Zeman gave a press conference in Oct. 2017 at which he brandished a fake Kalashnikov with the inscription “for journalists.” \n",
    "\n",
    "In Slovakia, Prime Minister Robert Fico has insulted journalists on several occasions, calling them “dirty anti-Slovak whores” and accused them of trying to damage Slovakia’s European Union presidency.\n",
    "\n",
    "In Poland and Hungary, the governments have reduced pluralism in public broadcasters."
   ]
  },
  {
   "cell_type": "markdown",
   "metadata": {},
   "source": [
    "![Alt text](graf7.jpg)"
   ]
  },
  {
   "cell_type": "markdown",
   "metadata": {},
   "source": [
    "![Alt text](graf6.jpg)"
   ]
  },
  {
   "cell_type": "code",
   "execution_count": null,
   "metadata": {},
   "outputs": [],
   "source": [
    "coverage2 <- j %>%\n",
    "mutate(shortdate = format(as.POSIXct(date, format =\"%m/%d/%y\"),\"%Y-%m-%d\"),\n",
    "       yearmonth = as.yearmon(shortdate),\n",
    "        year = floor_date(ymd(shortdate), \"year\")) %>%\n",
    "group_by(source_of_fire) %>%\n",
    "summarize (count = n()) %>%\n",
    "filter (count > 20)\n",
    "coverage2\n",
    "\n",
    "j1<-j %>%\n",
    "mutate(shortdate = format(as.POSIXct(date, format =\"%m/%d/%y\"),\"%Y-%m-%d\"),\n",
    "       yearmonth = as.yearmon(shortdate),\n",
    "        year = floor_date(ymd(shortdate), \"year\"),\n",
    "       Source = ifelse(source_of_fire == \"Government Officials\", \"Government Officials\",\n",
    "                         ifelse(source_of_fire == \"Political Group\", \"Political Group\",\n",
    "                                ifelse(source_of_fire == \"Military Officials\", \"Military Officials\",\n",
    "                                       ifelse(source_of_fire == \"Paramilitary Group\", \"Paramilitary Group\",\n",
    "                                             ifelse(source_of_fire == \"Local Residents\", \"Local Residents\",\n",
    "                                                           ifelse(source_of_fire == \"Unknown Fire\", \"Unknown Fire\",\n",
    "                                                                  ifelse(source_of_fire == \"Criminal Group\", \"Criminal Group\",\"Unknown\")))))))) %>%\n",
    "filter (year != \"2018-01-01\", year > \"1999-01-01\") %>%\n",
    "group_by(year, Source) %>%\n",
    "summarize(count = n()) %>%\n",
    "mutate (total = ifelse(year == \"2000-01-01\", \"45\",\n",
    "                      ifelse(year == \"2001-01-01\", \"55\",\n",
    "                             ifelse(year == \"2002-01-01\", \"32\",\n",
    "                                    ifelse(year == \"2003-01-01\", \"58\",\n",
    "                                           ifelse(year == \"2004-01-01\", \"88\",\n",
    "                                                  ifelse(year == \"2005-01-01\", \"64\",\n",
    "                                                         ifelse(year == \"2006-01-01\", \"102\",\n",
    "                                                                ifelse(year == \"2007-01-01\", \"111\",\n",
    "                                                                       ifelse(year == \"2008-01-01\", \"69\",\n",
    "                                                                              ifelse(year == \"2009-01-01\", \"100\",\n",
    "                                                                                     ifelse(year == \"2010-01-01\", \"79\",\n",
    "                                                                                            ifelse(year == \"2011-01-01\", \"81\",\n",
    "                                                                                                   ifelse(year == \"2012-01-01\", \"106\",\n",
    "                                                                                                          ifelse(year == \"2013-01-01\", \"98\",\n",
    "                                                                                                                 ifelse(year == \"2014-01-01\", \"89\",\n",
    "                                                                                                                        ifelse(year == \"2015-01-01\", \"97\",\n",
    "                                                                                                                               ifelse(year == \"2016-01-01\", \"78\",\n",
    "                                                                                                                                      ifelse(year == \"2017-01-01\", \"66\", \"0\")))))))))))))))))),\n",
    "       Total = as.integer(total))\n",
    "\n",
    "pctlargest <- mutate(j1, Percent = (count / Total)*100)\n",
    "\n",
    "\n",
    "options(repr.plot.width=8, repr.plot.height=5)\n",
    "ggplot(pctlargest, aes(year, weight=Percent, fill=Source)) + geom_bar() + scale_x_date(date_labels=\"%Y\", date_breaks=\"12 month\") + coord_flip() +\n",
    "scale_fill_brewer(palette=\"RdGy\") +\n",
    "labs(x=\"Year\", y=\"Percentage of source of fire\", title=\"Suspected source of fire in killings of journalists\", \n",
    "            subtitle=\"This refers to the person or entity CPJ has identified as most likely responsible.\",\n",
    "       caption=\"Source CPJ Data Graphic by Nela Krawiecova\") + \n",
    "theme(plot.title=element_text(size=16, face=\"bold\"), \n",
    "      panel.background = element_rect(fill = \"white\"),\n",
    "      panel.grid.major = element_line (color = \"grey70\", size = 0.2),\n",
    "      panel.grid.minor = element_line (color = \"grey80\", size = 0.1),\n",
    "      axis.line = element_line (color = \"grey40\"),\n",
    "      axis.title = element_text(size = 8))\n",
    "\n",
    "\n",
    "options(repr.plot.width=10, repr.plot.height=6)\n",
    "ggplot(j1, aes(year, weight=count, fill=Source)) + geom_bar() + scale_x_date(date_labels=\"%Y\", date_breaks=\"12 month\") + scale_fill_brewer(palette=\"RdGy\") +\n",
    "labs(x=\"Year\", y=\"Number of journalits killed\", title=\"Number of Journalists killed by suspected source of fire\", \n",
    "            subtitle=\"This refers to the person or entity CPJ has identified as most likely responsible.\",\n",
    "       caption=\"Source CPJ Data Graphic by Nela Krawiecova\") + \n",
    "theme(plot.title=element_text(size=16, face=\"bold\"), \n",
    "      panel.background = element_rect(fill = \"white\"),\n",
    "      panel.grid.major = element_line (color = \"grey70\", size = 0.2),\n",
    "      panel.grid.minor = element_line (color = \"grey80\", size = 0.1),\n",
    "      axis.line = element_line (color = \"grey40\"),\n",
    "      axis.title = element_text(size = 8))"
   ]
  },
  {
   "cell_type": "markdown",
   "metadata": {},
   "source": [
    "Sources: https://cpj.org/\n",
    "https://rsf.org/en\n",
    "https://www.occrp.org/en/amurderedjournalistslastinvestigation/freedom-of-information-law-reporters-best-friend-or-killer\n",
    "https://www.nytimes.com/2018/03/12/world/europe/slovakia-robert-kalinak-jan-kuciak.html?smid=fb-nytimes&smtyp=cur"
   ]
  }
 ],
 "metadata": {
  "anaconda-cloud": {},
  "kernelspec": {
   "display_name": "R",
   "language": "R",
   "name": "ir"
  },
  "language_info": {
   "codemirror_mode": "r",
   "file_extension": ".r",
   "mimetype": "text/x-r-source",
   "name": "R",
   "pygments_lexer": "r",
   "version": "3.4.3"
  }
 },
 "nbformat": 4,
 "nbformat_minor": 2
}
